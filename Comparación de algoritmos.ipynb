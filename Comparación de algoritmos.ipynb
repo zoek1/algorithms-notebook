{
 "cells": [
  {
   "cell_type": "markdown",
   "metadata": {},
   "source": [
    "# Comparación de algoritmos"
   ]
  },
  {
   "cell_type": "markdown",
   "metadata": {
    "nbpresent": {
     "id": "7303f2c1-270b-4bf8-8f82-aea852bc9e3d"
    }
   },
   "source": [
    "En este notebook e realizara una comparación entre un algoritmo seleccionado de cada una de las magnitudes $N\\log{N}$, $N^2$ y $N$.\n",
    "\n",
    "A continuación se muestran las magnitudes y los algoritmos propuestos cada cada complejidad respectiva. Cabe aclarar que este notebook se basara en algortimos de ordenamiento.\n",
    "\n",
    "### $N\\log{N}$\n",
    "\n",
    "Para los algoritmos de magnitud $N\\log{N}$ tenemos los siguientes:\n",
    "\n",
    "- Quicksort\n",
    "- Heapsort\n",
    "- Mergesort\n",
    "\n",
    "De los cuales seleccionaremos a *Heapsort*.\n",
    "\n",
    "### $N^2$\n",
    "A si tambien tenemos a los siguientes algoritmos para la magnitud $N^2$:\n",
    "- Burbuja\n",
    "- Inserción\n",
    "- Selección\n",
    "\n",
    "Y seleccionaremos el metodo de *Inserción*.\n",
    "\n",
    "### $N$\n",
    "Por ultimo la magnitud $N$ cuenta con los siguientes algoritmos:\n",
    "- Cubetas\n",
    "- Radix\n",
    "\n",
    "Y seleccionamos a el metodo de *Radix*."
   ]
  },
  {
   "cell_type": "markdown",
   "metadata": {
    "collapsed": true,
    "nbpresent": {
     "id": "4073fe97-3705-4684-a9f7-67a7463bd2a8"
    }
   },
   "source": [
    "## $N\\log{N}$: Heapsort\n",
    "\n",
    "Cuenta con la siguiente implementación:"
   ]
  },
  {
   "cell_type": "code",
   "execution_count": 15,
   "metadata": {
    "collapsed": false,
    "nbpresent": {
     "id": "a8304ee5-6fb9-47e9-8b20-6ee77bbdba97"
    }
   },
   "outputs": [
    {
     "name": "stdout",
     "output_type": "stream",
     "text": [
      "[0, 10, 100, 1000, 10000]\n",
      "[1, 2, 3, 43, 56, 64, 66, 356]\n"
     ]
    }
   ],
   "source": [
    "# %load heapsort.py\n",
    "from math import floor\n",
    "\n",
    "iParent = lambda i: floor((i-1/2))\n",
    "iLeftChild = lambda i: floor((i-1/2)) + 1\n",
    "iRightChild = lambda i: floor((i-1/2)) + 2\n",
    "\n",
    "def heapify(a, count):\n",
    "    start = iParent(count-1)\n",
    "    \n",
    "    while start >= 0:\n",
    "        siftDown(a, start, count-1)\n",
    "        start -= 1\n",
    "        \n",
    "def siftDown(a, start, end):\n",
    "    root = start\n",
    "    \n",
    "    while iLeftChild(root) <= end:\n",
    "        child = iLeftChild(root)\n",
    "        swap = root\n",
    "        \n",
    "        if a[swap] <= a[child]:\n",
    "            swap = child\n",
    "            \n",
    "        if child + 1 <= end and a[swap] < a[child + 1]:\n",
    "            swap = child + 1\n",
    "            \n",
    "        if swap == root:\n",
    "            return\n",
    "        else:\n",
    "            temp = a[root]\n",
    "            a[root] = a[swap]\n",
    "            a[swap] = temp\n",
    "            root = swap\n",
    "\n",
    "def heap_sort(a, count):\n",
    "    heapify(a, count)\n",
    "    end = count - 1\n",
    "    \n",
    "    while end > 0:\n",
    "        temp = a[end]\n",
    "        a[end] = a[0]\n",
    "        a[0] = temp\n",
    "        \n",
    "        end -= 1\n",
    "        \n",
    "        siftDown(a, 0, end)\n",
    "        \n",
    "    return a\n",
    "        \n",
    "a = [{'data': [10000, 1000, 100, 10, 0], 'expected': [0, 10, 100, 1000, 10000]},\n",
    "      {'data': [1,2,43,66,3,64,56,356], 'expected': [1, 2, 3, 43, 56, 64, 66, 356]},\n",
    "    ]\n",
    "      \n",
    "for test in a:\n",
    "    result = heap_sort(test['data'], len(test['data']))\n",
    "    print(result)\n",
    "    assert result == test['expected']"
   ]
  },
  {
   "cell_type": "markdown",
   "metadata": {},
   "source": [
    "## $N$: Radix"
   ]
  },
  {
   "cell_type": "code",
   "execution_count": 22,
   "metadata": {
    "collapsed": false
   },
   "outputs": [
    {
     "name": "stdout",
     "output_type": "stream",
     "text": [
      "[0, 10, 100, 1000, 10000]\n",
      "[1, 2, 3, 43, 56, 64, 66, 356]\n"
     ]
    }
   ],
   "source": [
    "# %load radix.py\n",
    "def radix_sort(a, count):\n",
    "  l = a\n",
    "  modulo = 10\n",
    "  div = 1\n",
    "  max = None\n",
    "    \n",
    "  while True:\n",
    "    queue = [[] for i in range(10)]\n",
    "    for value in l:\n",
    "      if max == None or value > max:\n",
    "        max = value\n",
    "        \n",
    "      digit = (value % modulo) // div\n",
    "      queue[digit].append(value)\n",
    "        \n",
    "    modulo *= 10\n",
    "    div *= 10\n",
    "\n",
    "    l = [value for sublist in queue for value in sublist]\n",
    "    \n",
    "    if max < div:\n",
    "      return l\n",
    "    \n",
    "a = [{'data': [10000, 1000, 100, 10, 0], 'expected': [0, 10, 100, 1000, 10000]},\n",
    "      {'data': [1,2,43,66,3,64,56,356], 'expected': [1, 2, 3, 43, 56, 64, 66, 356]},\n",
    "    ]\n",
    "      \n",
    "for test in a:\n",
    "    result = radix_sort(test['data'], len(test['data']))\n",
    "    print(result)\n",
    "    assert result == test['expected']"
   ]
  },
  {
   "cell_type": "markdown",
   "metadata": {},
   "source": [
    "## $N^2$: Inserción"
   ]
  },
  {
   "cell_type": "code",
   "execution_count": 27,
   "metadata": {
    "collapsed": false
   },
   "outputs": [
    {
     "name": "stdout",
     "output_type": "stream",
     "text": [
      "[0, 10, 100, 1000, 10000]\n",
      "[1, 2, 3, 43, 56, 64, 66, 356]\n"
     ]
    }
   ],
   "source": [
    "# %load insercion.py\n",
    "def insercion_sort(a):\n",
    "    for i in range(1, len(a)):\n",
    "        x = a[i]\n",
    "        j = i - 1\n",
    "        while j >= 0 and a[j] > x:\n",
    "            a[j+1] = a[j]\n",
    "            j -= 1\n",
    "        a[j+1] = x\n",
    "        \n",
    "    return a\n",
    "\n",
    "a = [{'data': [10000, 1000, 100, 10, 0], 'expected': [0, 10, 100, 1000, 10000]},\n",
    "      {'data': [1,2,43,66,3,64,56,356], 'expected': [1, 2, 3, 43, 56, 64, 66, 356]},\n",
    "    ]\n",
    "      \n",
    "for test in a:\n",
    "    result = insercion_sort(test['data'])\n",
    "    print(result)\n",
    "    assert result == test['expected']"
   ]
  }
 ],
 "metadata": {
  "anaconda-cloud": {},
  "kernelspec": {
   "display_name": "Python [conda env:ds]",
   "language": "python",
   "name": "conda-env-ds-py"
  },
  "language_info": {
   "codemirror_mode": {
    "name": "ipython",
    "version": 3
   },
   "file_extension": ".py",
   "mimetype": "text/x-python",
   "name": "python",
   "nbconvert_exporter": "python",
   "pygments_lexer": "ipython3",
   "version": "3.5.2"
  },
  "nbpresent": {
   "slides": {
    "14449509-cd9e-4a44-980a-d95b08ae9e97": {
     "id": "14449509-cd9e-4a44-980a-d95b08ae9e97",
     "prev": "84dac7cb-5412-4773-90a1-95c83f569e39",
     "regions": {
      "e36301cd-d0c6-4124-a1ce-6738ba469f53": {
       "attrs": {
        "height": 0.8,
        "width": 0.8,
        "x": 0.1,
        "y": 0.1
       },
       "content": {
        "cell": "4073fe97-3705-4684-a9f7-67a7463bd2a8",
        "part": "whole"
       },
       "id": "e36301cd-d0c6-4124-a1ce-6738ba469f53"
      }
     }
    },
    "40f3402a-1f56-4188-aee5-be2f35b48f2c": {
     "id": "40f3402a-1f56-4188-aee5-be2f35b48f2c",
     "prev": "14449509-cd9e-4a44-980a-d95b08ae9e97",
     "regions": {
      "2697e2a3-0a32-4457-8e56-a617f257b912": {
       "attrs": {
        "height": 0.8,
        "width": 0.8,
        "x": 0.1,
        "y": 0.1
       },
       "content": {
        "cell": "a8304ee5-6fb9-47e9-8b20-6ee77bbdba97",
        "part": "whole"
       },
       "id": "2697e2a3-0a32-4457-8e56-a617f257b912"
      }
     }
    },
    "4a37b007-5bce-44f9-afe0-13c4ad523f98": {
     "id": "4a37b007-5bce-44f9-afe0-13c4ad523f98",
     "prev": "40f3402a-1f56-4188-aee5-be2f35b48f2c",
     "regions": {
      "c902864a-c330-46c9-8cee-a086ee76e3b3": {
       "attrs": {
        "height": 0.8,
        "width": 0.8,
        "x": 0.1,
        "y": 0.1
       },
       "content": {
        "cell": "879eba3a-dff3-4f37-a0d6-e1bdc6c3daf9",
        "part": "whole"
       },
       "id": "c902864a-c330-46c9-8cee-a086ee76e3b3"
      }
     }
    },
    "84dac7cb-5412-4773-90a1-95c83f569e39": {
     "id": "84dac7cb-5412-4773-90a1-95c83f569e39",
     "prev": null,
     "regions": {
      "b85b5a2b-2207-4fbc-b3ab-662fb577d1f6": {
       "attrs": {
        "height": 0.8,
        "width": 0.8,
        "x": 0.1,
        "y": 0.1
       },
       "content": {
        "cell": "7303f2c1-270b-4bf8-8f82-aea852bc9e3d",
        "part": "whole"
       },
       "id": "b85b5a2b-2207-4fbc-b3ab-662fb577d1f6"
      }
     }
    }
   },
   "themes": {}
  }
 },
 "nbformat": 4,
 "nbformat_minor": 2
}
